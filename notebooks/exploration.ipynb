{
 "cells": [
  {
   "cell_type": "markdown",
   "id": "5d24534c",
   "metadata": {},
   "source": [
    "# [SmartAMR] Exploration of the `inphared` dataset"
   ]
  },
  {
   "cell_type": "code",
   "execution_count": 3,
   "id": "532a2729",
   "metadata": {},
   "outputs": [],
   "source": [
    "import pandas as pd\n",
    "import numpy as np\n",
    "import matplotlib.pyplot as plt\n",
    "from pathlib import Path\n",
    "\n",
    "import SmartAMR"
   ]
  },
  {
   "cell_type": "code",
   "execution_count": 2,
   "id": "6fbcaf31",
   "metadata": {},
   "outputs": [],
   "source": [
    "DATASET = Path(\"/mnt/data/data/inphared/\")\n",
    "metadata_file = DATASET / \"14Apr2025_data_excluding_refseq.tsv\""
   ]
  },
  {
   "cell_type": "code",
   "execution_count": 3,
   "id": "61f6f99d",
   "metadata": {},
   "outputs": [],
   "source": [
    "metadata = pd.read_csv(metadata_file, sep=\"\\t\")"
   ]
  },
  {
   "cell_type": "code",
   "execution_count": 4,
   "id": "115beca2",
   "metadata": {},
   "outputs": [
    {
     "data": {
      "text/plain": [
       "Index(['Accession', 'Description', 'Classification', 'Genome Length (bp)',\n",
       "       'Jumbophage', 'molGC (%)', 'Molecule', 'Modification Date',\n",
       "       'Number CDS', 'Positive Strand (%)', 'Negative Strand (%)',\n",
       "       'Coding Capacity(%)', 'Low Coding Capacity Warning', 'tRNAs', 'Host',\n",
       "       'Lowest Taxa', 'Genus', 'Sub-family', 'Family', 'Order', 'Class',\n",
       "       'Phylum', 'Kingdom', 'Realm', 'Baltimore Group', 'Genbank Division',\n",
       "       'Isolation Host (beware inconsistent and nonsense values)'],\n",
       "      dtype='object')"
      ]
     },
     "execution_count": 4,
     "metadata": {},
     "output_type": "execute_result"
    }
   ],
   "source": [
    "metadata.columns"
   ]
  },
  {
   "cell_type": "code",
   "execution_count": 5,
   "id": "b0aa6908",
   "metadata": {},
   "outputs": [
    {
     "data": {
      "text/plain": [
       "Kingdom\n",
       "Heunggongvirae    20360\n",
       "Sangervirae        4759\n",
       "Unclassified       2835\n",
       "Loebvirae           438\n",
       "Bamfordvirae        163\n",
       "Orthornavirae        43\n",
       "Zilligvirae          36\n",
       "Trapavirae           21\n",
       "Helvetiavirae        10\n",
       "Name: count, dtype: int64"
      ]
     },
     "execution_count": 5,
     "metadata": {},
     "output_type": "execute_result"
    }
   ],
   "source": [
    "metadata[\"Kingdom\"].value_counts()"
   ]
  },
  {
   "cell_type": "code",
   "execution_count": 6,
   "id": "60eae4f9",
   "metadata": {},
   "outputs": [
    {
     "data": {
      "text/plain": [
       "array(['Erwinia', 'Shigella', 'Vibrio', 'Klebsiella', 'Corynebacterium',\n",
       "       'Staphylococcus', 'Escherichia', 'Salmonella', 'Helicobacter',\n",
       "       'Ralstonia', 'Acinetobacter', 'Stenotrophomonas', 'Erythrobactor',\n",
       "       'Erythrobacter', 'Pseudomonas', 'Riemerella', 'Aeromonas',\n",
       "       'Brucella', 'Cutibacterium', 'Citrobacter', 'Proteus',\n",
       "       'Pseudoalteromonas', 'Plectonema', 'Dompiswa', 'Mycobacterium',\n",
       "       'Unspecified', 'Alphaproteobacteria', 'Prevotella',\n",
       "       'Flavobacterium', 'Enterobacteria', 'Synechococcus', 'Caulobacter',\n",
       "       'Faecalibacterium', 'Geobacillus', 'Anabaena', 'Arthrobacter',\n",
       "       'Gordonia', 'Enterococcus', 'Streptomyces', 'Microbacterium',\n",
       "       'Thermus', 'Prochlorococcus', 'Photobacterium',\n",
       "       'Mycolicibacterium', 'Psychrobacillus', 'Sporosarcina',\n",
       "       'Butyrivibrio', 'Clostridium', 'Xylella', 'Yersinia',\n",
       "       'Enterobacter', 'Xanthomonas', 'Pasteurella', 'Streptococcus',\n",
       "       'Halomonas', 'Bacillus', 'bajarodmic', 'bajarodino',\n",
       "       'bajarodcaudo', 'Campylobacter', 'Pseudoxanthomonas',\n",
       "       'Roseobacter', 'Salinibacter', 'Sulfolobus', 'Rhodococcus',\n",
       "       'Methanobrevibacter', 'Burkholderia', 'Raoultella', 'Morganella',\n",
       "       'Liberibacter', 'Cobetia', 'Leptolyngbya', 'Fusobacterium',\n",
       "       'Serratia', 'Lactococcus', 'Aliivibrio', 'Cronobacter',\n",
       "       'Pectobacterium', 'Mesorhizobium', 'Listeria', 'Enteroccous',\n",
       "       'Glutamicibacter', 'Pantoea', 'Enterocloster', 'Rhizobium',\n",
       "       'Nitrosopumilaceae', 'Mammaliicoccus', 'Dulem', 'Dinoroseobacter',\n",
       "       'Lactiplantibacillus', 'Lactobacillus', 'Propionibacterium',\n",
       "       'Micrococcus', 'Alicyclobacillus', 'Actinobacillus',\n",
       "       'Porphyromonas', 'Rhodobacter', 'Acetoanaerobium',\n",
       "       'Terrisporobacter', 'Clostridioides', 'Dolichospermum',\n",
       "       'Planktothrix', 'Microcystis', 'Nostoc', 'Aphanizomenon',\n",
       "       'Oceanotoga', 'Brevundimonas', 'Maribacter', 'Psuedomonas',\n",
       "       'Dickeya', 'Exiguobacterium', 'Brochothrix', 'Moorella',\n",
       "       'Weizmannia', 'Edwardsiella', 'Marinitoga', 'Escherchia',\n",
       "       'Escehrichia', 'Bordetella', 'Alteromonas', 'Alcaligenes',\n",
       "       'Agrobacterium', 'Mycoplasmopsis', 'Hafnia', 'Bdellovibrio',\n",
       "       'Eggerthella', 'Sulfurimonas', 'Sinorhizobium', 'Haloarchaeal',\n",
       "       'Haloterrigena', 'Halorubrum', 'Stutzerimonas', 'Pelagibacter',\n",
       "       'Shewanella', 'Achromobacter', 'Myxococcus', 'Microcoleus',\n",
       "       'Methanoculleus', 'Marinomonas', 'Brevibacterium', 'Clavibacter',\n",
       "       'dsDNA', 'Chryseobacterium', 'Macromonas', 'Ruegeria',\n",
       "       'Bacteroides', 'Flavonifractor', 'Blautia', 'Akkermansia',\n",
       "       'Acutalibacter', 'Providencia', 'Alishewanella', 'Sphingomonas',\n",
       "       'Pseudanabaena', 'Acidovorax', 'Mycobacteroides', 'Methanosarcina',\n",
       "       'Actinomycetia', 'Saccharolobus', 'Lysinibacillus',\n",
       "       'Sulfitobacter', 'Cylindrospermopsis', 'Metallosphaera', 'Megaira',\n",
       "       'Dipodfec', 'Parageobacillus', 'Elizabethkingia', 'Paracoccus',\n",
       "       'Psychrobacter', 'Variovorax', 'Ochrobactrum', 'Latilactobacillus',\n",
       "       'Tetragenococcus', 'Lacticaseibacillus', 'Polaromonas',\n",
       "       'Xylophilus', 'Thiohalocapsa', 'Rhodobacteraceae', 'Desulfofustis',\n",
       "       'Paenibacillus', 'Natrinema', 'Bradyrhizobium', 'Weissella',\n",
       "       'Parabacteroides', 'Dorea', 'Hungatella', 'Phocaeicola',\n",
       "       'Bifidobacterium', 'Alistipes', 'Amedibacillus', 'Anaerostipes',\n",
       "       'Agathobaculum', 'Liquorilactobacillus', 'Leuconostoc',\n",
       "       'Curvibacter', 'Brevibacillus', 'Oenococcus', 'Nocardia',\n",
       "       'Chromohalobacter', 'Haemophilus', 'Hujiaoplasma', 'Tenacibaculum',\n",
       "       'Spiroplasma', 'Haloferax', 'Sigmofec', 'Verrucomicrobia',\n",
       "       'Actinomyces', 'Cedecea', 'Janthinobacterium', 'Cytobacillus',\n",
       "       'Luteibacter', 'Citromicrobium', 'Curtobacterium', 'Kurthia',\n",
       "       'Carnobacterium', 'Octadecabacter', 'Paraglaciecola',\n",
       "       'Levilactobacillus', 'Roseburia', 'Sphaerotilus', 'Lokiarchaeota',\n",
       "       'Chlamydia', 'Pararheinheimera', 'Pseudaeromonas', 'Halobacterium',\n",
       "       'Lentibacter', 'Haloarcula', 'Rahnella', 'Phormidium',\n",
       "       'Hydrogenophilus', 'Halogeometricum', 'Mycoplasma',\n",
       "       'Desulfovibrio', 'Hamiltonella', 'Oceanospirillum', 'Kosakonia',\n",
       "       'Komagataeibacter', 'Acetobacter', 'Altiarchaeum', 'Ruminococcus',\n",
       "       'Polaribacter', 'Solobacterium', 'Stappia', 'Wolbachia',\n",
       "       'Winogradskyella', 'Olleya', 'Cellulophaga', 'Sphingopyxis',\n",
       "       'Thermocrinis', 'Cellulosimicrobium', 'Gardnerella',\n",
       "       'Nitratiruptor', 'Rheinheimera', 'Protaetiibacter', 'Arthronema',\n",
       "       'Methanocaldococcus', 'Buttiauxella', 'Micromonospora',\n",
       "       'Pyrobaculum', 'Acidianus', 'Aminobacter', 'Phaeobacter',\n",
       "       'Thermoproteus', 'Pediococcus', 'Methanobacterium', 'Mannheimia',\n",
       "       'Aeribacillus', 'Rothia', 'Aerococcus', 'Delftia', 'Virgibacillus',\n",
       "       'Nodularia', 'Natrialba', 'Meiothermus', 'Acidithiobacillus',\n",
       "       'Thermobifida', 'Marinobacter', 'Azobacteroides', 'Mastigocladus',\n",
       "       'Leptospira', 'Anoxybacillus', 'Pontimonas', 'Gluconobacter',\n",
       "       'Erysipelothrix', 'Aeropyrum', 'Plesiomonas', 'Caldibacillus',\n",
       "       'Leclercia', 'Sphingobium', 'Rathayibacter', 'Peptoclostridium',\n",
       "       'Xenohaliotis', 'Aquamicrobium', 'Salinivibrio', 'Pelagibaca',\n",
       "       'Thiobacimonas', 'Rhodovulum', 'Croceibacter', 'Tsukamurella',\n",
       "       'Acaryochloris', 'Rhodoferax', 'Moraxella', 'Skermania',\n",
       "       'Hydrogenobaculum', 'Lelliottia', 'Aurantimonas', 'Roseovarius',\n",
       "       'Thermoanaerobacterium', 'Stygiolobus', 'Nitrincola',\n",
       "       'Aggregatibacter', 'Colwellia', 'Puniceispirillum', 'Halogranum',\n",
       "       'Loktanella', 'Tetraselmis', 'Dunaliella', 'Tetrasphaera',\n",
       "       'Saccharomonospora', 'Nonlabens', 'Celeribacter', 'Iodobacter',\n",
       "       'Salisaeta', 'Thermococcus', 'Nitrososphaera', 'Azospirillum',\n",
       "       'Methanothermobacter', 'Thalassomonas', 'Sodalis', 'Silicibacter',\n",
       "       'Listonella', 'Actinoplanes', 'Kluyvera', 'Pyrococcus',\n",
       "       'Acholeplasma', 'Obesumbacterium', 'Limnohabitans',\n",
       "       'Nitratidesulfovibrio', 'Tunturiibacter', 'Anaerosphaera',\n",
       "       'Oscillospirales', 'Monoglobales', 'Lachnospiraceae',\n",
       "       'Christensenellales', 'Syntrophomonadaceae', 'Thomasclavelia'],\n",
       "      dtype=object)"
      ]
     },
     "execution_count": 6,
     "metadata": {},
     "output_type": "execute_result"
    }
   ],
   "source": [
    "metadata[\"Host\"].unique()"
   ]
  },
  {
   "cell_type": "markdown",
   "id": "fbd74a2e",
   "metadata": {},
   "source": [
    "Sizes of proteins"
   ]
  },
  {
   "cell_type": "code",
   "execution_count": 5,
   "id": "51a0b549",
   "metadata": {},
   "outputs": [],
   "source": [
    "!awk '/^>/ { print len; len=0 } /^[^>]/ { len+=length($0) } END { print len }' ../../tmp/pep/511145.12.PATRIC.faa > ../../tmp/Ecoli_pep_sizes.list # Escherichia coli proteome"
   ]
  },
  {
   "cell_type": "code",
   "execution_count": 6,
   "id": "37d91624",
   "metadata": {},
   "outputs": [
    {
     "data": {
      "text/html": [
       "<div>\n",
       "<style scoped>\n",
       "    .dataframe tbody tr th:only-of-type {\n",
       "        vertical-align: middle;\n",
       "    }\n",
       "\n",
       "    .dataframe tbody tr th {\n",
       "        vertical-align: top;\n",
       "    }\n",
       "\n",
       "    .dataframe thead th {\n",
       "        text-align: right;\n",
       "    }\n",
       "</style>\n",
       "<table border=\"1\" class=\"dataframe\">\n",
       "  <thead>\n",
       "    <tr style=\"text-align: right;\">\n",
       "      <th></th>\n",
       "      <th>818</th>\n",
       "    </tr>\n",
       "  </thead>\n",
       "  <tbody>\n",
       "    <tr>\n",
       "      <th>count</th>\n",
       "      <td>4548.000000</td>\n",
       "    </tr>\n",
       "    <tr>\n",
       "      <th>mean</th>\n",
       "      <td>297.488127</td>\n",
       "    </tr>\n",
       "    <tr>\n",
       "      <th>std</th>\n",
       "      <td>212.301914</td>\n",
       "    </tr>\n",
       "    <tr>\n",
       "      <th>min</th>\n",
       "      <td>29.000000</td>\n",
       "    </tr>\n",
       "    <tr>\n",
       "      <th>25%</th>\n",
       "      <td>143.000000</td>\n",
       "    </tr>\n",
       "    <tr>\n",
       "      <th>50%</th>\n",
       "      <td>262.000000</td>\n",
       "    </tr>\n",
       "    <tr>\n",
       "      <th>75%</th>\n",
       "      <td>397.000000</td>\n",
       "    </tr>\n",
       "    <tr>\n",
       "      <th>max</th>\n",
       "      <td>2318.000000</td>\n",
       "    </tr>\n",
       "  </tbody>\n",
       "</table>\n",
       "</div>"
      ],
      "text/plain": [
       "               818\n",
       "count  4548.000000\n",
       "mean    297.488127\n",
       "std     212.301914\n",
       "min      29.000000\n",
       "25%     143.000000\n",
       "50%     262.000000\n",
       "75%     397.000000\n",
       "max    2318.000000"
      ]
     },
     "execution_count": 6,
     "metadata": {},
     "output_type": "execute_result"
    }
   ],
   "source": [
    "protein_lengths = pd.read_csv(\"../../tmp/Ecoli_pep_sizes.list\")\n",
    "protein_lengths.describe()"
   ]
  },
  {
   "cell_type": "code",
   "execution_count": null,
   "id": "238e1571",
   "metadata": {},
   "outputs": [],
   "source": []
  }
 ],
 "metadata": {
  "kernelspec": {
   "display_name": "smartamrx-py3",
   "language": "python",
   "name": "smartamrx-py3"
  },
  "language_info": {
   "codemirror_mode": {
    "name": "ipython",
    "version": 3
   },
   "file_extension": ".py",
   "mimetype": "text/x-python",
   "name": "python",
   "nbconvert_exporter": "python",
   "pygments_lexer": "ipython3",
   "version": "3.13.3"
  }
 },
 "nbformat": 4,
 "nbformat_minor": 5
}
