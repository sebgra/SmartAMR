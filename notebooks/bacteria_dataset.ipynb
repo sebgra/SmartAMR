{
 "cells": [
  {
   "cell_type": "markdown",
   "id": "04376b9b",
   "metadata": {},
   "source": [
    "# Download Bacteria proteomes from BV-BRC database"
   ]
  },
  {
   "cell_type": "code",
   "execution_count": 5,
   "id": "ad643f1f",
   "metadata": {},
   "outputs": [],
   "source": [
    "from SmartAMR.scrapper import GenomeProteinSeqDownloader\n",
    "import pandas as pd"
   ]
  },
  {
   "cell_type": "code",
   "execution_count": 9,
   "id": "18791808",
   "metadata": {},
   "outputs": [
    {
     "data": {
      "text/html": [
       "<div>\n",
       "<style scoped>\n",
       "    .dataframe tbody tr th:only-of-type {\n",
       "        vertical-align: middle;\n",
       "    }\n",
       "\n",
       "    .dataframe tbody tr th {\n",
       "        vertical-align: top;\n",
       "    }\n",
       "\n",
       "    .dataframe thead th {\n",
       "        text-align: right;\n",
       "    }\n",
       "</style>\n",
       "<table border=\"1\" class=\"dataframe\">\n",
       "  <thead>\n",
       "    <tr style=\"text-align: right;\">\n",
       "      <th></th>\n",
       "      <th>bacteria</th>\n",
       "      <th>bvbrc_id</th>\n",
       "    </tr>\n",
       "  </thead>\n",
       "  <tbody>\n",
       "    <tr>\n",
       "      <th>0</th>\n",
       "      <td>Escherichia coli</td>\n",
       "      <td>511145.12</td>\n",
       "    </tr>\n",
       "    <tr>\n",
       "      <th>1</th>\n",
       "      <td>Klebsiella pneumoniae</td>\n",
       "      <td>1125630.4</td>\n",
       "    </tr>\n",
       "    <tr>\n",
       "      <th>2</th>\n",
       "      <td>Pseudomonas aeruginosa</td>\n",
       "      <td>287.5706</td>\n",
       "    </tr>\n",
       "    <tr>\n",
       "      <th>3</th>\n",
       "      <td>Ralstonia solanacearum</td>\n",
       "      <td>305.1006</td>\n",
       "    </tr>\n",
       "    <tr>\n",
       "      <th>4</th>\n",
       "      <td>Lactococcus lactis</td>\n",
       "      <td>1360.457</td>\n",
       "    </tr>\n",
       "    <tr>\n",
       "      <th>5</th>\n",
       "      <td>Staphylococcus aureus</td>\n",
       "      <td>93061.5</td>\n",
       "    </tr>\n",
       "    <tr>\n",
       "      <th>6</th>\n",
       "      <td>Salmonella sp.</td>\n",
       "      <td>1197719.3</td>\n",
       "    </tr>\n",
       "    <tr>\n",
       "      <th>7</th>\n",
       "      <td>Acinetobacter baumannii</td>\n",
       "      <td>470.9250</td>\n",
       "    </tr>\n",
       "    <tr>\n",
       "      <th>8</th>\n",
       "      <td>Streptococcus thermophilus</td>\n",
       "      <td>1308.1128</td>\n",
       "    </tr>\n",
       "  </tbody>\n",
       "</table>\n",
       "</div>"
      ],
      "text/plain": [
       "                     bacteria   bvbrc_id\n",
       "0            Escherichia coli  511145.12\n",
       "1       Klebsiella pneumoniae  1125630.4\n",
       "2      Pseudomonas aeruginosa   287.5706\n",
       "3      Ralstonia solanacearum   305.1006\n",
       "4          Lactococcus lactis   1360.457\n",
       "5       Staphylococcus aureus    93061.5\n",
       "6              Salmonella sp.  1197719.3\n",
       "7     Acinetobacter baumannii   470.9250\n",
       "8  Streptococcus thermophilus  1308.1128"
      ]
     },
     "execution_count": 9,
     "metadata": {},
     "output_type": "execute_result"
    }
   ],
   "source": [
    "bacterias = pd.read_csv(\"../config/bacterias.csv\", dtype={'bvbrc_id': object})\n",
    "bacterias"
   ]
  },
  {
   "cell_type": "code",
   "execution_count": 10,
   "id": "3e64d2b5",
   "metadata": {},
   "outputs": [],
   "source": [
    "downloader = GenomeProteinSeqDownloader(\"../../tmp/pep/\")"
   ]
  },
  {
   "cell_type": "code",
   "execution_count": 11,
   "id": "10fe15b7",
   "metadata": {},
   "outputs": [
    {
     "name": "stdout",
     "output_type": "stream",
     "text": [
      "test : ftp://ftp.bvbrc.org/genomes/511145.12/511145.12.PATRIC.faa\n",
      "test : ftp://ftp.bvbrc.org/genomes/1125630.4/1125630.4.PATRIC.faa\n",
      "test : ftp://ftp.bvbrc.org/genomes/287.5706/287.5706.PATRIC.faa\n",
      "test : ftp://ftp.bvbrc.org/genomes/305.1006/305.1006.PATRIC.faa\n",
      "test : ftp://ftp.bvbrc.org/genomes/1360.457/1360.457.PATRIC.faa\n",
      "test : ftp://ftp.bvbrc.org/genomes/93061.5/93061.5.PATRIC.faa\n",
      "test : ftp://ftp.bvbrc.org/genomes/1197719.3/1197719.3.PATRIC.faa\n",
      "test : ftp://ftp.bvbrc.org/genomes/470.9250/470.9250.PATRIC.faa\n",
      "test : ftp://ftp.bvbrc.org/genomes/1308.1128/1308.1128.PATRIC.faa\n"
     ]
    }
   ],
   "source": [
    "for bvbrc_id in bacterias[\"bvbrc_id\"]:\n",
    "    downloader.download(bvbrc_id)"
   ]
  }
 ],
 "metadata": {
  "kernelspec": {
   "display_name": "smartamrx-py3",
   "language": "python",
   "name": "smartamrx-py3"
  },
  "language_info": {
   "codemirror_mode": {
    "name": "ipython",
    "version": 3
   },
   "file_extension": ".py",
   "mimetype": "text/x-python",
   "name": "python",
   "nbconvert_exporter": "python",
   "pygments_lexer": "ipython3",
   "version": "3.13.3"
  }
 },
 "nbformat": 4,
 "nbformat_minor": 5
}
