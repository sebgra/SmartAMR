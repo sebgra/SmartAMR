{
 "cells": [
  {
   "cell_type": "code",
   "execution_count": null,
   "id": "f2dc4c86-943c-4727-8737-2475ea4d5417",
   "metadata": {
    "editable": true,
    "scrolled": true,
    "slideshow": {
     "slide_type": ""
    },
    "tags": []
   },
   "outputs": [],
   "source": [
    "# Install esm and other dependencies\n",
    "!pip install esm\n",
    "!pip install matplotlib\n",
    "!pip install biopython\n",
    "!pip install parquet\n",
    "!pip install tables"
   ]
  },
  {
   "cell_type": "markdown",
   "id": "4d738f40-526a-4ad0-aaa6-4357a2586431",
   "metadata": {},
   "source": [
    "# Import necessary libraries"
   ]
  },
  {
   "cell_type": "code",
   "execution_count": 31,
   "id": "380ca64d-2254-4caf-9035-4e29aa5247e3",
   "metadata": {},
   "outputs": [],
   "source": [
    "import glob\n",
    "from concurrent.futures import ThreadPoolExecutor\n",
    "from typing import Sequence, Dict, List\n",
    "\n",
    "import numpy as np\n",
    "import matplotlib.pyplot as plt\n",
    "import pandas as pd\n",
    "import seaborn as sns\n",
    "\n",
    "import boto3\n",
    "\n",
    "from Bio import SeqIO\n",
    "\n",
    "from esm.sdk import client\n",
    "from esm.models.esmc import ESMC\n",
    "from esm.sdk.api import ESMProtein, LogitsConfig\n",
    "\n",
    "from esm.sdk.api import (\n",
    "    ESM3InferenceClient,\n",
    "    ESMProtein,\n",
    "    ESMProteinError,\n",
    "    LogitsConfig,\n",
    "    LogitsOutput,\n",
    "    ProteinType,\n",
    ")\n",
    "import parquet"
   ]
  },
  {
   "cell_type": "markdown",
   "id": "ddb8a1c0-f764-4f15-880d-d2897aca0114",
   "metadata": {},
   "source": [
    "# Define utilitary functions"
   ]
  },
  {
   "cell_type": "code",
   "execution_count": 87,
   "id": "8687f335-9513-40f9-b853-d2da155213c4",
   "metadata": {},
   "outputs": [],
   "source": [
    "EMBEDDING_CONFIG = LogitsConfig(\n",
    "    sequence=True, return_embeddings=True, return_hidden_states=True, ith_hidden_layer=100\n",
    ")\n",
    "\n",
    "\n",
    "def embed_sequence(model: ESM3InferenceClient, sequence: str) -> LogitsOutput:\n",
    "    protein = ESMProtein(sequence=sequence)\n",
    "    protein_tensor = model.encode(protein)\n",
    "    output = model.logits(protein_tensor, EMBEDDING_CONFIG)\n",
    "    return output\n",
    "\n",
    "\n",
    "def batch_embed(\n",
    "    model: ESM3InferenceClient, inputs: Sequence[ProteinType]\n",
    ") -> Sequence[LogitsOutput]:\n",
    "    \"\"\"Forge supports auto-batching. So batch_embed() is as simple as running a collection\n",
    "    of embed calls in parallel using asyncio.\n",
    "    \"\"\"\n",
    "    with ThreadPoolExecutor() as executor:\n",
    "        futures = [\n",
    "            executor.submit(embed_sequence, model, protein) for protein in inputs\n",
    "        ]\n",
    "        results = []\n",
    "        for future in futures:\n",
    "            try:\n",
    "                results.append(future.result())\n",
    "            except Exception as e:\n",
    "                results.append(ESMProteinError(500, str(e)))\n",
    "    return results\n",
    "\n",
    "def embed_sequence(model: ESM3InferenceClient, sequence: str) -> LogitsOutput:\n",
    "    protein = ESMProtein(sequence=sequence)\n",
    "    protein_tensor = model.encode(protein)\n",
    "    output = model.logits(protein_tensor, EMBEDDING_CONFIG)\n",
    "    return output\n",
    "\n",
    "def pad_arrays_to_max_shape(list_of_arrays, pad_value=0):\n",
    "    \"\"\"\n",
    "    Pads a list of 2D NumPy arrays to the shape of the largest array in the list.\n",
    "\n",
    "    Args:\n",
    "        list_of_arrays (list): A list of 2D NumPy arrays.\n",
    "        pad_value (int or float): The value to use for padding (default is 0).\n",
    "\n",
    "    Returns:\n",
    "        list: A new list containing the padded 2D NumPy arrays, all with the same shape.\n",
    "    \"\"\"\n",
    "    max_rows = max(arr.shape[0] for arr in list_of_arrays)\n",
    "    #max_cols = max(arr.shape[1] for arr in list_of_arrays)\n",
    "    max_shape =  max_rows#(max_rows, max_cols)\n",
    "\n",
    "    padded_arrays = []\n",
    "    for arr in list_of_arrays:\n",
    "        rows_to_pad = max_rows - arr.shape[0]\n",
    "        #cols_to_pad = max_cols - arr.shape[1]\n",
    "\n",
    "        # Use np.pad to add padding\n",
    "        padded_arr = np.pad(arr,\n",
    "                            pad_width=((0, rows_to_pad)),\n",
    "                            mode='constant',\n",
    "                            constant_values=pad_value)\n",
    "        padded_arrays.append(padded_arr)\n",
    "\n",
    "    return padded_arrays"
   ]
  },
  {
   "cell_type": "markdown",
   "id": "bb746845-0056-496a-b570-7a447c2cf8ee",
   "metadata": {},
   "source": [
    "# Request specific layer"
   ]
  },
  {
   "cell_type": "markdown",
   "id": "29b2be6d-0989-4a9c-b181-06aeeba7714b",
   "metadata": {},
   "source": [
    "ESM C 6B's hidden states are really large, so we only allow one specific layer to be requested per API call. This also works for other ESM C models, but it is required for ESM C 6B. Refer to https://forge.evolutionaryscale.ai/console to find the number of hidden layers for each model."
   ]
  },
  {
   "cell_type": "code",
   "execution_count": 88,
   "id": "a72a4e1a-afd8-4ce9-92a8-7e439776908f",
   "metadata": {},
   "outputs": [],
   "source": [
    "# ESMC_6B_EMBEDDING_CONFIG = LogitsConfig(return_hidden_states=True, ith_hidden_layer=55)"
   ]
  },
  {
   "cell_type": "markdown",
   "id": "862b5972-4a1c-40da-82c5-e3df38b116b5",
   "metadata": {},
   "source": [
    "# Load dataset"
   ]
  },
  {
   "cell_type": "code",
   "execution_count": 89,
   "id": "2f2d47fc-a0e7-40cf-a33a-b2f62f3e9397",
   "metadata": {},
   "outputs": [],
   "source": [
    "protein = ESMProtein(sequence=\"AAAAA\")\n",
    "client = ESMC.from_pretrained(\"esmc_300m\").to(\"cuda\") # or \"cpu\"\n",
    "protein_tensor = client.encode(protein)\n",
    "logits_output = client.logits(\n",
    "   protein_tensor, LogitsConfig(sequence=True, return_embeddings=True)\n",
    ")"
   ]
  },
  {
   "cell_type": "markdown",
   "id": "2615ac2a-467f-43a1-8241-96ccb72d005c",
   "metadata": {},
   "source": [
    "# Subset proteins set"
   ]
  },
  {
   "cell_type": "code",
   "execution_count": 95,
   "id": "f51ac223-e6e8-4b18-be9e-c1374e323601",
   "metadata": {},
   "outputs": [],
   "source": [
    "def get_embeddings_from_fasta(proteome_fasta: str = None, model: ESM3InferenceClient = None) -> Dict:\n",
    "    \"\"\"\n",
    "    Get protein embeddings from sequence and return dictionary where keys are proteins ids and values are embedded sequences\n",
    "    \"\"\"\n",
    "    embeddings_dict = {}\n",
    "\n",
    "    fasta_sequences = SeqIO.parse(proteome_fasta, 'fasta')\n",
    "    \n",
    "    for idx, protein in enumerate(fasta_sequences):\n",
    "        name = protein.id\n",
    "        sequence = protein.seq\n",
    "        embeddings_dict[name] = np.mean(embed_sequence(model, str(sequence)).embeddings.cpu().squeeze(0).numpy(), axis = 1)\n",
    "\n",
    "    embeddings_list = embeddings_dict.values()\n",
    "\n",
    "    padded_embeddings = pad_arrays_to_max_shape(embeddings_list)\n",
    "\n",
    "    mean_embedding = np.mean(padded_embeddings, axis = 0)\n",
    "\n",
    "    return mean_embedding\n",
    "\n",
    "def get_embeddings_from_csv(proteome: str = None, model: ESM3InferenceClient = None) -> Dict:\n",
    "\n",
    "    embeddings_dict = {}\n",
    "    embeddings_list = []\n",
    "\n",
    "    df = pd.read_csv(proteome)\n",
    "\n",
    "    sequences = list(df['seq'])\n",
    "    phage_id = list(df['phage_id'])[0]\n",
    "\n",
    "    protein_ids = list(df['protein_id'])\n",
    "    \n",
    "    for protein_id, seq in zip(protein_ids, sequences):\n",
    "        embedding = np.mean(embed_sequence(model, seq).embeddings.cpu().squeeze(0).numpy(), axis =1)\n",
    "         #embeddings_dict[protein_id] = embed_sequence(model, seq).embeddings.cpu().squeeze(0).numpy()\n",
    "        embeddings_list.append(embedding)\n",
    "\n",
    "    padded_embeddings = pad_arrays_to_max_shape(embeddings_list)\n",
    "\n",
    "    mean_embedding = np.mean(padded_embeddings, axis = 0)\n",
    "\n",
    "    return phage_id, mean_embedding\n"
   ]
  },
  {
   "cell_type": "markdown",
   "id": "e761e9b3-ae6c-409e-b427-534029d7b351",
   "metadata": {},
   "source": [
    "# Embed all phage proteoms"
   ]
  },
  {
   "cell_type": "code",
   "execution_count": 96,
   "id": "79ed2dc0-90ea-4f73-81d9-55a627902cc2",
   "metadata": {},
   "outputs": [],
   "source": [
    "phages_folders = ['phages_proteoms/Escherichia_coli/', 'phages_proteoms/Klebsiella_pneumoniae/', 'phages_proteoms/Pseudomonas_aeruginosa/', 'phages_proteoms/Staphylococcus_aureus/']\n",
    "embeddings_df_columns = {\n",
    "    \"phage_id\": [],\n",
    "    \"embeddings\": []\n",
    "}\n",
    "\n",
    "for folder in phages_folders:\n",
    "    files = glob.glob(f\"{folder}*\")\n",
    "    for file in files:\n",
    "        phage_id, embedding = get_embeddings_from_csv(proteome=file, model=client)\n",
    "        embeddings_df_columns[\"phage_id\"].append(phage_id)\n",
    "        embeddings_df_columns[\"embeddings\"].append(embedding)"
   ]
  },
  {
   "cell_type": "code",
   "execution_count": 97,
   "id": "62dccdfd-85fa-47bc-bb99-73ce4ad6500b",
   "metadata": {},
   "outputs": [],
   "source": [
    "embeddings_df = pd.DataFrame(embeddings_df_columns)"
   ]
  },
  {
   "cell_type": "code",
   "execution_count": null,
   "id": "76c7407a-9649-4c73-af03-a7d5bbf6b1a2",
   "metadata": {},
   "outputs": [],
   "source": [
    "embeddings_df.to_hdf(\"../tmp/phage_embeddings.h5\", \"phage_embeddings\")"
   ]
  },
  {
   "cell_type": "markdown",
   "id": "63bf5947-30ff-4b75-a113-e2e069590305",
   "metadata": {},
   "source": [
    "# Reload embeddings for check"
   ]
  },
  {
   "cell_type": "code",
   "execution_count": 103,
   "id": "30934115-0683-4d2b-8433-106835771a5c",
   "metadata": {},
   "outputs": [],
   "source": [
    "embeddings_df_reloaded = pd.read_hdf(\"../tmp/phage_embeddings.h5\", key=\"phage_embeddings\")"
   ]
  },
  {
   "cell_type": "code",
   "execution_count": 104,
   "id": "eb72bec6-5142-4a0e-beda-625ded4bb6ba",
   "metadata": {
    "scrolled": true
   },
   "outputs": [
    {
     "data": {
      "text/html": [
       "<div>\n",
       "<style scoped>\n",
       "    .dataframe tbody tr th:only-of-type {\n",
       "        vertical-align: middle;\n",
       "    }\n",
       "\n",
       "    .dataframe tbody tr th {\n",
       "        vertical-align: top;\n",
       "    }\n",
       "\n",
       "    .dataframe thead th {\n",
       "        text-align: right;\n",
       "    }\n",
       "</style>\n",
       "<table border=\"1\" class=\"dataframe\">\n",
       "  <thead>\n",
       "    <tr style=\"text-align: right;\">\n",
       "      <th></th>\n",
       "      <th>phage_id</th>\n",
       "      <th>embeddings</th>\n",
       "    </tr>\n",
       "  </thead>\n",
       "  <tbody>\n",
       "    <tr>\n",
       "      <th>0</th>\n",
       "      <td>PQ850631</td>\n",
       "      <td>[-4.6356887e-05, 0.0010236966, 0.0007067089, 0...</td>\n",
       "    </tr>\n",
       "    <tr>\n",
       "      <th>1</th>\n",
       "      <td>MZ826699</td>\n",
       "      <td>[-3.8704005e-05, 0.001010636, 0.00069760345, 0...</td>\n",
       "    </tr>\n",
       "    <tr>\n",
       "      <th>2</th>\n",
       "      <td>MF356679</td>\n",
       "      <td>[-6.9524205e-05, 0.000920012, 0.000651642, 0.0...</td>\n",
       "    </tr>\n",
       "    <tr>\n",
       "      <th>3</th>\n",
       "      <td>GQ149088</td>\n",
       "      <td>[-1.899178e-05, 0.0010069675, 0.0007526012, 0....</td>\n",
       "    </tr>\n",
       "    <tr>\n",
       "      <th>4</th>\n",
       "      <td>KX266606</td>\n",
       "      <td>[-6.262038e-05, 0.0010293312, 0.0008145436, 0....</td>\n",
       "    </tr>\n",
       "  </tbody>\n",
       "</table>\n",
       "</div>"
      ],
      "text/plain": [
       "   phage_id                                         embeddings\n",
       "0  PQ850631  [-4.6356887e-05, 0.0010236966, 0.0007067089, 0...\n",
       "1  MZ826699  [-3.8704005e-05, 0.001010636, 0.00069760345, 0...\n",
       "2  MF356679  [-6.9524205e-05, 0.000920012, 0.000651642, 0.0...\n",
       "3  GQ149088  [-1.899178e-05, 0.0010069675, 0.0007526012, 0....\n",
       "4  KX266606  [-6.262038e-05, 0.0010293312, 0.0008145436, 0...."
      ]
     },
     "execution_count": 104,
     "metadata": {},
     "output_type": "execute_result"
    }
   ],
   "source": [
    "embeddings_df_reloaded.head()"
   ]
  },
  {
   "cell_type": "code",
   "execution_count": 105,
   "id": "a01f3820-a2e5-4b49-bc72-495fef318e73",
   "metadata": {},
   "outputs": [
    {
     "data": {
      "text/plain": [
       "(967,)"
      ]
     },
     "execution_count": 105,
     "metadata": {},
     "output_type": "execute_result"
    }
   ],
   "source": [
    "embeddings_df_reloaded.iloc[0]['embeddings'].shape"
   ]
  },
  {
   "cell_type": "markdown",
   "id": "beb6763b-cf72-4ab3-b033-4f61ea90ecbb",
   "metadata": {},
   "source": [
    "## Embed bacteria proteins"
   ]
  },
  {
   "cell_type": "code",
   "execution_count": 106,
   "id": "1d179266-53a9-4264-8423-9504878bcec1",
   "metadata": {},
   "outputs": [
    {
     "data": {
      "text/html": [
       "<div>\n",
       "<style scoped>\n",
       "    .dataframe tbody tr th:only-of-type {\n",
       "        vertical-align: middle;\n",
       "    }\n",
       "\n",
       "    .dataframe tbody tr th {\n",
       "        vertical-align: top;\n",
       "    }\n",
       "\n",
       "    .dataframe thead th {\n",
       "        text-align: right;\n",
       "    }\n",
       "</style>\n",
       "<table border=\"1\" class=\"dataframe\">\n",
       "  <thead>\n",
       "    <tr style=\"text-align: right;\">\n",
       "      <th></th>\n",
       "      <th>bacteria</th>\n",
       "      <th>bvbrc_id</th>\n",
       "    </tr>\n",
       "  </thead>\n",
       "  <tbody>\n",
       "    <tr>\n",
       "      <th>0</th>\n",
       "      <td>Escherichia coli</td>\n",
       "      <td>511145.12</td>\n",
       "    </tr>\n",
       "    <tr>\n",
       "      <th>1</th>\n",
       "      <td>Klebsiella pneumoniae</td>\n",
       "      <td>1125630.4</td>\n",
       "    </tr>\n",
       "    <tr>\n",
       "      <th>2</th>\n",
       "      <td>Pseudomonas aeruginosa</td>\n",
       "      <td>287.5706</td>\n",
       "    </tr>\n",
       "    <tr>\n",
       "      <th>3</th>\n",
       "      <td>Ralstonia solanacearum</td>\n",
       "      <td>305.1006</td>\n",
       "    </tr>\n",
       "    <tr>\n",
       "      <th>4</th>\n",
       "      <td>Lactococcus lactis</td>\n",
       "      <td>1360.457</td>\n",
       "    </tr>\n",
       "  </tbody>\n",
       "</table>\n",
       "</div>"
      ],
      "text/plain": [
       "                 bacteria   bvbrc_id\n",
       "0        Escherichia coli  511145.12\n",
       "1   Klebsiella pneumoniae  1125630.4\n",
       "2  Pseudomonas aeruginosa   287.5706\n",
       "3  Ralstonia solanacearum   305.1006\n",
       "4      Lactococcus lactis   1360.457"
      ]
     },
     "execution_count": 106,
     "metadata": {},
     "output_type": "execute_result"
    }
   ],
   "source": [
    "bacterias_df = pd.read_csv(\"bacterias.csv\", dtype=dict(bacteria=str, bvbrc_id=str))\n",
    "bacterias_df.head()"
   ]
  },
  {
   "cell_type": "code",
   "execution_count": 107,
   "id": "0c1f5826-45d5-4d84-850f-4a034dac77c1",
   "metadata": {},
   "outputs": [
    {
     "name": "stdout",
     "output_type": "stream",
     "text": [
      "Escherichia coli\n",
      "Klebsiella pneumoniae\n",
      "Pseudomonas aeruginosa\n",
      "Ralstonia solanacearum\n",
      "Lactococcus lactis\n",
      "Staphylococcus aureus\n",
      "Salmonella sp.\n",
      "Acinetobacter baumannii\n",
      "Streptococcus thermophilus\n"
     ]
    }
   ],
   "source": [
    "\n",
    "bacteria_embeddings_df_columns = {\n",
    "    \"bacteria_id\": [],\n",
    "    \"embeddings\": []\n",
    "}\n",
    "for i, row in bacterias_df.iterrows():\n",
    "    bacteria_id, bvbrc_id = row\n",
    "    print(bacteria_id)\n",
    "    proteome = f\"bacteria_proteoms/{bvbrc_id}.PATRIC.selected.faa\"\n",
    "    embedding = get_embeddings_from_fasta(proteome_fasta=proteome, model=client)\n",
    "    bacteria_embeddings_df_columns[\"bacteria_id\"].append(bacteria_id)\n",
    "    bacteria_embeddings_df_columns[\"embeddings\"].append(embedding)"
   ]
  },
  {
   "cell_type": "code",
   "execution_count": 108,
   "id": "fc5eef0c-eb20-46a4-a46a-6e43189e3f57",
   "metadata": {},
   "outputs": [],
   "source": [
    "bacteria_embeddings_df = pd.DataFrame(bacteria_embeddings_df_columns)"
   ]
  },
  {
   "cell_type": "code",
   "execution_count": 155,
   "id": "ca7e905d-6160-42ec-ba72-b206f114d30a",
   "metadata": {},
   "outputs": [
    {
     "data": {
      "text/plain": [
       "(1261,)"
      ]
     },
     "execution_count": 155,
     "metadata": {},
     "output_type": "execute_result"
    }
   ],
   "source": [
    "bacteria_embeddings_df.iloc[0]['embeddings'].shape"
   ]
  },
  {
   "cell_type": "code",
   "execution_count": null,
   "id": "662b0010-49db-4693-9627-8bfa09b8f6ae",
   "metadata": {},
   "outputs": [],
   "source": [
    "bacteria_embeddings_df.to_hdf(\"../tmp/bacteria_embeddings.h5\", key=\"bacteria_embeddings\")"
   ]
  },
  {
   "cell_type": "code",
   "execution_count": 110,
   "id": "8d647b32-c42a-47c6-b925-3b7a9b41e43d",
   "metadata": {},
   "outputs": [],
   "source": [
    "bacteria_embeddings_df_reloaded = pd.read_hdf(\"../tmp/bacteria_embeddings.h5\", \"bacteria_embeddings\")"
   ]
  },
  {
   "cell_type": "markdown",
   "id": "285151fe-5f55-40b4-8322-23e7175a5532",
   "metadata": {},
   "source": [
    "## Preperation of concatenated vectors"
   ]
  },
  {
   "cell_type": "code",
   "execution_count": 111,
   "id": "142cd721-ca47-45cc-a876-1fec140ab959",
   "metadata": {},
   "outputs": [],
   "source": [
    "embeddings_df = embeddings_df_reloaded\n",
    "bacteria_embeddings_df = bacteria_embeddings_df_reloaded"
   ]
  },
  {
   "cell_type": "code",
   "execution_count": 112,
   "id": "d56a6762-eee9-4043-8bbf-5bfe0cf6dc21",
   "metadata": {},
   "outputs": [],
   "source": [
    "metadata = pd.read_csv(\"./14Apr2025_data_excluding_refseq.tsv\", sep=\"\\t\")"
   ]
  },
  {
   "cell_type": "code",
   "execution_count": 113,
   "id": "b60540ad-3cd3-46da-8439-e3de46120c17",
   "metadata": {},
   "outputs": [],
   "source": [
    "embeddings_df[\"padded_embeddings\"] = pad_arrays_to_max_shape(embeddings_df[\"embeddings\"].values)\n",
    "bacteria_embeddings_df[\"padded_embeddings\"] = pad_arrays_to_max_shape(bacteria_embeddings_df[\"embeddings\"].values)"
   ]
  },
  {
   "cell_type": "code",
   "execution_count": 157,
   "id": "9888a8be-1d9d-4159-8f9b-a2f05c9b3bf2",
   "metadata": {},
   "outputs": [
    {
     "data": {
      "text/plain": [
       "(4199,)"
      ]
     },
     "execution_count": 157,
     "metadata": {},
     "output_type": "execute_result"
    }
   ],
   "source": [
    "bacteria_embeddings_df.iloc[0]['padded_embeddings'].shape"
   ]
  },
  {
   "cell_type": "code",
   "execution_count": 114,
   "id": "cb98f75e-e63b-4b1f-a3cd-42978e70eb04",
   "metadata": {},
   "outputs": [],
   "source": [
    "embeddings_df[\"flat_embeddings\"] = [embedding.flatten() for embedding in embeddings_df[\"padded_embeddings\"].values]\n",
    "bacteria_embeddings_df[\"flat_embeddings\"] = [embedding.flatten() for embedding in bacteria_embeddings_df[\"padded_embeddings\"].values]"
   ]
  },
  {
   "cell_type": "code",
   "execution_count": 115,
   "id": "4ed85951-4aca-492d-8de1-c3a6299ec55f",
   "metadata": {},
   "outputs": [],
   "source": [
    "import itertools"
   ]
  },
  {
   "cell_type": "code",
   "execution_count": 116,
   "id": "47f5fc2d-3572-4f00-8648-0541d127ce57",
   "metadata": {},
   "outputs": [
    {
     "data": {
      "text/plain": [
       "3402"
      ]
     },
     "execution_count": 116,
     "metadata": {},
     "output_type": "execute_result"
    }
   ],
   "source": [
    "viruses = embeddings_df[\"phage_id\"].unique()\n",
    "bacterias = bacterias_df[\"bacteria\"].unique()\n",
    "\n",
    "len(list(itertools.product(viruses, bacterias)))"
   ]
  },
  {
   "cell_type": "code",
   "execution_count": 117,
   "id": "8b159a8b-9782-4dfd-8dff-edfe2bb5f8a3",
   "metadata": {},
   "outputs": [],
   "source": [
    "def find_label(phage_id, bacteria_id):\n",
    "    phage_metadata = metadata[metadata[\"Accession\"] == phage_id]\n",
    "    pair_metadata = phage_metadata[phage_metadata[\"Isolation Host (beware inconsistent and nonsense values)\"].str.contains(bacteria_id)]\n",
    "    return pair_metadata.shape[0] > 0"
   ]
  },
  {
   "cell_type": "code",
   "execution_count": 118,
   "id": "7b168238-70aa-4139-9e97-f0c0c8ddf0de",
   "metadata": {
    "editable": true,
    "slideshow": {
     "slide_type": ""
    },
    "tags": []
   },
   "outputs": [],
   "source": [
    "features_df_columns = {\n",
    "    \"phage_id\": [],\n",
    "    \"bacteria_id\": [],\n",
    "    \"embedding\": [],\n",
    "    \"label\": []\n",
    "}\n",
    "\n",
    "\n",
    "for phage_id, bacteria_id in itertools.product(viruses, bacterias):\n",
    "    label = find_label(phage_id, bacteria_id)\n",
    "\n",
    "    viral_embedding = embeddings_df[embeddings_df[\"phage_id\"] == phage_id][\"flat_embeddings\"].values[0]\n",
    "    bacteria_embedding = bacteria_embeddings_df[bacteria_embeddings_df[\"bacteria_id\"] == bacteria_id][\"flat_embeddings\"].values[0]\n",
    "    features_df_columns[\"phage_id\"].append(phage_id)\n",
    "    features_df_columns[\"bacteria_id\"].append(bacteria_id)\n",
    "    features_df_columns[\"embedding\"].append(np.append(viral_embedding, bacteria_embedding))\n",
    "    label = find_label(phage_id, bacteria_id)\n",
    "    features_df_columns[\"label\"].append(label)\n",
    "    "
   ]
  },
  {
   "cell_type": "code",
   "execution_count": 129,
   "id": "765d2b30-2a56-48c7-abf9-74b939c5e569",
   "metadata": {},
   "outputs": [
    {
     "data": {
      "text/plain": [
       "label\n",
       "False    3024\n",
       "True      378\n",
       "Name: count, dtype: int64"
      ]
     },
     "execution_count": 129,
     "metadata": {},
     "output_type": "execute_result"
    }
   ],
   "source": [
    "features_df = pd.DataFrame(features_df_columns)\n",
    "features_df[\"label\"].value_counts()\n"
   ]
  },
  {
   "cell_type": "code",
   "execution_count": 130,
   "id": "4b51257b-be1f-436e-8402-cee4d2467de9",
   "metadata": {},
   "outputs": [],
   "source": [
    "features_df_false = features_df[~features_df[\"label\"]]\n",
    "features_df_true = features_df[features_df[\"label\"]]"
   ]
  },
  {
   "cell_type": "code",
   "execution_count": 143,
   "id": "824d0268-cee0-4d21-ba98-ede3ea380ac0",
   "metadata": {},
   "outputs": [
    {
     "data": {
      "text/html": [
       "<div>\n",
       "<style scoped>\n",
       "    .dataframe tbody tr th:only-of-type {\n",
       "        vertical-align: middle;\n",
       "    }\n",
       "\n",
       "    .dataframe tbody tr th {\n",
       "        vertical-align: top;\n",
       "    }\n",
       "\n",
       "    .dataframe thead th {\n",
       "        text-align: right;\n",
       "    }\n",
       "</style>\n",
       "<table border=\"1\" class=\"dataframe\">\n",
       "  <thead>\n",
       "    <tr style=\"text-align: right;\">\n",
       "      <th></th>\n",
       "      <th>phage_id</th>\n",
       "      <th>bacteria_id</th>\n",
       "      <th>embedding</th>\n",
       "      <th>label</th>\n",
       "    </tr>\n",
       "  </thead>\n",
       "  <tbody>\n",
       "    <tr>\n",
       "      <th>1</th>\n",
       "      <td>PQ850631</td>\n",
       "      <td>Klebsiella pneumoniae</td>\n",
       "      <td>[-4.6356887e-05, 0.0010236966, 0.0007067089, 0...</td>\n",
       "      <td>False</td>\n",
       "    </tr>\n",
       "    <tr>\n",
       "      <th>2</th>\n",
       "      <td>PQ850631</td>\n",
       "      <td>Pseudomonas aeruginosa</td>\n",
       "      <td>[-4.6356887e-05, 0.0010236966, 0.0007067089, 0...</td>\n",
       "      <td>False</td>\n",
       "    </tr>\n",
       "    <tr>\n",
       "      <th>3</th>\n",
       "      <td>PQ850631</td>\n",
       "      <td>Ralstonia solanacearum</td>\n",
       "      <td>[-4.6356887e-05, 0.0010236966, 0.0007067089, 0...</td>\n",
       "      <td>False</td>\n",
       "    </tr>\n",
       "    <tr>\n",
       "      <th>4</th>\n",
       "      <td>PQ850631</td>\n",
       "      <td>Lactococcus lactis</td>\n",
       "      <td>[-4.6356887e-05, 0.0010236966, 0.0007067089, 0...</td>\n",
       "      <td>False</td>\n",
       "    </tr>\n",
       "    <tr>\n",
       "      <th>5</th>\n",
       "      <td>PQ850631</td>\n",
       "      <td>Staphylococcus aureus</td>\n",
       "      <td>[-4.6356887e-05, 0.0010236966, 0.0007067089, 0...</td>\n",
       "      <td>False</td>\n",
       "    </tr>\n",
       "  </tbody>\n",
       "</table>\n",
       "</div>"
      ],
      "text/plain": [
       "   phage_id             bacteria_id  \\\n",
       "1  PQ850631   Klebsiella pneumoniae   \n",
       "2  PQ850631  Pseudomonas aeruginosa   \n",
       "3  PQ850631  Ralstonia solanacearum   \n",
       "4  PQ850631      Lactococcus lactis   \n",
       "5  PQ850631   Staphylococcus aureus   \n",
       "\n",
       "                                           embedding  label  \n",
       "1  [-4.6356887e-05, 0.0010236966, 0.0007067089, 0...  False  \n",
       "2  [-4.6356887e-05, 0.0010236966, 0.0007067089, 0...  False  \n",
       "3  [-4.6356887e-05, 0.0010236966, 0.0007067089, 0...  False  \n",
       "4  [-4.6356887e-05, 0.0010236966, 0.0007067089, 0...  False  \n",
       "5  [-4.6356887e-05, 0.0010236966, 0.0007067089, 0...  False  "
      ]
     },
     "execution_count": 143,
     "metadata": {},
     "output_type": "execute_result"
    }
   ],
   "source": [
    "features_df_false.head()"
   ]
  },
  {
   "cell_type": "code",
   "execution_count": 131,
   "id": "2267611f-fb50-4d6c-8580-818f1dff335c",
   "metadata": {},
   "outputs": [],
   "source": [
    "sampled_features_df_false = features_df_false.sample(350)\n",
    "sampled_features_df_true = features_df_true.sample(350)"
   ]
  },
  {
   "cell_type": "code",
   "execution_count": 132,
   "id": "00f92b18-99aa-4e26-a32f-891957287330",
   "metadata": {},
   "outputs": [],
   "source": [
    "sampled_features_df = pd.concat([sampled_features_df_false, sampled_features_df_true])"
   ]
  },
  {
   "cell_type": "code",
   "execution_count": null,
   "id": "2fa4f53b-c2c5-4617-a9c2-7c12c7e13b2b",
   "metadata": {},
   "outputs": [],
   "source": [
    "batch_size = 10\n",
    "for i, df_chunk in sampled_features_df.groupby(np.arange(sampled_features_df.shape[0]) // batch_size):\n",
    "    df_chunk.to_hdf('../tmp/features.h5', 'features_%i'%i, complib= 'blosc:lz4', mode='a')"
   ]
  },
  {
   "cell_type": "code",
   "execution_count": 137,
   "id": "3b4e971d-79f2-49a1-bbd3-41e8e20b0966",
   "metadata": {},
   "outputs": [],
   "source": [
    "exploded_df = features_df['embedding'].apply(pd.Series)"
   ]
  },
  {
   "cell_type": "code",
   "execution_count": null,
   "id": "5d156369-d490-4241-9957-d2988ab6ba49",
   "metadata": {},
   "outputs": [],
   "source": [
    "exploded_df.head()"
   ]
  },
  {
   "cell_type": "code",
   "execution_count": 148,
   "id": "e94f0a43-fcc8-4f7c-ba33-039fa1e540fd",
   "metadata": {},
   "outputs": [],
   "source": [
    "new_df = pd.concat([features_df.drop('embedding', axis=1), exploded_df], axis=1)"
   ]
  },
  {
   "cell_type": "code",
   "execution_count": 151,
   "id": "1fcb37b6-e007-4f83-b829-e45ba6db0a1a",
   "metadata": {},
   "outputs": [],
   "source": [
    "new_df.to_csv(\"final_features.csv\", index = False)"
   ]
  }
 ],
 "metadata": {
  "kernelspec": {
   "display_name": "conda_pytorch_p310",
   "language": "python",
   "name": "conda_pytorch_p310"
  },
  "language_info": {
   "codemirror_mode": {
    "name": "ipython",
    "version": 3
   },
   "file_extension": ".py",
   "mimetype": "text/x-python",
   "name": "python",
   "nbconvert_exporter": "python",
   "pygments_lexer": "ipython3",
   "version": "3.10.14"
  }
 },
 "nbformat": 4,
 "nbformat_minor": 5
}
