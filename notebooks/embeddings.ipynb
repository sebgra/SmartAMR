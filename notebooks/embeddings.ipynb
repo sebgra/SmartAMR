{
 "cells": [
  {
   "cell_type": "markdown",
   "id": "72ee3538",
   "metadata": {},
   "source": [
    "# Embedding of protein sequence with ESM"
   ]
  },
  {
   "cell_type": "code",
   "execution_count": null,
   "id": "4cb6db0b",
   "metadata": {},
   "outputs": [],
   "source": [
    "from Bio import SeqIO\n",
    "import torch\n",
    "\n",
    "from typing import Sequence\n",
    "from concurrent.futures import ThreadPoolExecutor\n",
    "import matplotlib.pyplot as plt\n",
    "import seaborn as sns"
   ]
  },
  {
   "cell_type": "code",
   "execution_count": 5,
   "id": "28881e61",
   "metadata": {},
   "outputs": [],
   "source": [
    "\n",
    "records = SeqIO.parse(\"../../tmp/pep/287.5706.PATRIC.faa\", \"fasta\")\n"
   ]
  },
  {
   "cell_type": "code",
   "execution_count": 6,
   "id": "ffbe4447",
   "metadata": {},
   "outputs": [],
   "source": [
    "first10_records = [next(records) for i in range(10)]\n",
    "first10_sequence = [str(record.seq) for record in first10_records]"
   ]
  },
  {
   "cell_type": "code",
   "execution_count": 7,
   "id": "6156cf51",
   "metadata": {},
   "outputs": [
    {
     "name": "stderr",
     "output_type": "stream",
     "text": [
      "/home/d4gen/.local/share/miniforge3/envs/smartamrX/lib/python3.13/site-packages/tqdm/auto.py:21: TqdmWarning: IProgress not found. Please update jupyter and ipywidgets. See https://ipywidgets.readthedocs.io/en/stable/user_install.html\n",
      "  from .autonotebook import tqdm as notebook_tqdm\n",
      "Fetching 4 files: 100%|██████████| 4/4 [00:00<00:00, 25420.02it/s]\n"
     ]
    }
   ],
   "source": [
    "from esm.models.esmc import ESMC\n",
    "from esm.sdk.api import ESMProtein, LogitsConfig, LogitsOutput, ESMCInferenceClient, ESMProteinError, ProteinType\n",
    "\n",
    "client = ESMC.from_pretrained(\"esmc_300m\").to(\"cuda\") # or \"cpu\"\n"
   ]
  },
  {
   "cell_type": "code",
   "execution_count": null,
   "id": "02eb9c03",
   "metadata": {},
   "outputs": [],
   "source": [
    "EMBEDDING_CONFIG = LogitsConfig(\n",
    "    sequence=True, return_embeddings=True, return_hidden_states=True\n",
    ")\n",
    "\n",
    "def embed_sequence(model: ESMCInferenceClient, sequence: str) -> LogitsOutput:\n",
    "    protein = ESMProtein(sequence=sequence)\n",
    "    protein_tensor = model.encode(protein)\n",
    "    output = model.logits(protein_tensor, EMBEDDING_CONFIG)\n",
    "    if isinstance(output, ESMProteinError):\n",
    "        print(len(sequence))\n",
    "        raise output\n",
    "    return output\n",
    "\n",
    "\n",
    "def batch_embed(\n",
    "    model: ESMCInferenceClient, inputs: Sequence[ProteinType]\n",
    ") -> Sequence[LogitsOutput]:\n",
    "    \"\"\"Forge supports auto-batching. So batch_embed() is as simple as running a collection\n",
    "    of embed calls in parallel using asyncio.\n",
    "    \"\"\"\n",
    "    with ThreadPoolExecutor() as executor:\n",
    "        futures = [\n",
    "            executor.submit(embed_sequence, model, protein) for protein in inputs\n",
    "        ]\n",
    "        results = []\n",
    "        for future in futures:\n",
    "            try:\n",
    "                results.append(future.result())\n",
    "            except Exception as e:\n",
    "                print(e)\n",
    "                # results.append(ESMProteinError(500, str(e)))\n",
    "    return results"
   ]
  },
  {
   "cell_type": "code",
   "execution_count": 10,
   "id": "f5e95693",
   "metadata": {},
   "outputs": [
    {
     "name": "stdout",
     "output_type": "stream",
     "text": [
      "The size of tensor a (516) must match the size of tensor b (369) at non-singleton dimension 1\n",
      "The size of tensor a (369) must match the size of tensor b (317) at non-singleton dimension 1\n",
      "The size of tensor a (371) must match the size of tensor b (40) at non-singleton dimension 1\n",
      "The size of tensor a (808) must match the size of tensor b (317) at non-singleton dimension 1\n",
      "The size of tensor a (259) must match the size of tensor b (180) at non-singleton dimension 1\n",
      "The size of tensor a (687) must match the size of tensor b (317) at non-singleton dimension 1\n",
      "The size of tensor a (317) must match the size of tensor b (180) at non-singleton dimension 1\n"
     ]
    }
   ],
   "source": [
    "outputs = batch_embed(client, first10_sequence)"
   ]
  },
  {
   "cell_type": "code",
   "execution_count": null,
   "id": "b314aadc",
   "metadata": {},
   "outputs": [],
   "source": []
  }
 ],
 "metadata": {
  "kernelspec": {
   "display_name": "smartamrx-py3",
   "language": "python",
   "name": "smartamrx-py3"
  },
  "language_info": {
   "codemirror_mode": {
    "name": "ipython",
    "version": 3
   },
   "file_extension": ".py",
   "mimetype": "text/x-python",
   "name": "python",
   "nbconvert_exporter": "python",
   "pygments_lexer": "ipython3",
   "version": "3.13.3"
  }
 },
 "nbformat": 4,
 "nbformat_minor": 5
}
